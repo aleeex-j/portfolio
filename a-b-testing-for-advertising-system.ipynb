{
 "cells": [
  {
   "cell_type": "markdown",
   "id": "0a66da33",
   "metadata": {
    "papermill": {
     "duration": 0.003625,
     "end_time": "2024-03-05T05:40:22.562504",
     "exception": false,
     "start_time": "2024-03-05T05:40:22.558879",
     "status": "completed"
    },
    "tags": []
   },
   "source": [
    "# Business Problem:\n",
    "A social media site introduced 'average bidding' as a new type of bidding which is different from the current bidding type called 'maximum bidding'. We will use a/b testing to see if the difference in product purchases is due to the new bidding system called 'average bidding'. We are assuming that users were randomly sampled and distributed between the control and test groups. We have an equal n_samples across both the control and test groups.\n",
    "\n",
    "\n",
    "1. control = 'maximum bidding'\n",
    "1. test = 'average bidding'\n",
    "\n",
    "**Hypothesis:**\n",
    "H0: The purchases between average bidding and maximum bidding are the same\n",
    "H1: The purchases between average bidding and maximum bidding are different\n",
    "\n",
    "**Variables:**\n",
    "* Impression = n_advertisement_views\n",
    "* Click = n_clicks on adertisements\n",
    "* Purchase = n_products purchases after advertisements are clicked\n",
    "* Earnings = total_amount earned from purchased products\n",
    "\n"
   ]
  },
  {
   "cell_type": "code",
   "execution_count": 1,
   "id": "e2bb7f22",
   "metadata": {
    "_cell_guid": "b1076dfc-b9ad-4769-8c92-a6c4dae69d19",
    "_uuid": "8f2839f25d086af736a60e9eeb907d3b93b6e0e5",
    "execution": {
     "iopub.execute_input": "2024-03-05T05:40:22.570851Z",
     "iopub.status.busy": "2024-03-05T05:40:22.570231Z",
     "iopub.status.idle": "2024-03-05T05:40:24.219400Z",
     "shell.execute_reply": "2024-03-05T05:40:24.218660Z"
    },
    "papermill": {
     "duration": 1.655924,
     "end_time": "2024-03-05T05:40:24.221793",
     "exception": false,
     "start_time": "2024-03-05T05:40:22.565869",
     "status": "completed"
    },
    "tags": []
   },
   "outputs": [
    {
     "name": "stdout",
     "output_type": "stream",
     "text": [
      "/kaggle/input/ab-testing/ab_testing.xlsx\n"
     ]
    }
   ],
   "source": [
    "import numpy as np \n",
    "import pandas as pd \n",
    "from scipy.stats import shapiro, mannwhitneyu, levene, ttest_ind\n",
    "import seaborn as sns\n",
    "from matplotlib import pyplot as plt\n",
    "\n",
    "import os\n",
    "for dirname, _, filenames in os.walk('/kaggle/input'):\n",
    "    for filename in filenames:\n",
    "        print(os.path.join(dirname, filename))"
   ]
  },
  {
   "cell_type": "code",
   "execution_count": 2,
   "id": "913040ab",
   "metadata": {
    "execution": {
     "iopub.execute_input": "2024-03-05T05:40:24.230891Z",
     "iopub.status.busy": "2024-03-05T05:40:24.229466Z",
     "iopub.status.idle": "2024-03-05T05:40:24.591280Z",
     "shell.execute_reply": "2024-03-05T05:40:24.590678Z"
    },
    "papermill": {
     "duration": 0.36786,
     "end_time": "2024-03-05T05:40:24.593259",
     "exception": false,
     "start_time": "2024-03-05T05:40:24.225399",
     "status": "completed"
    },
    "tags": []
   },
   "outputs": [],
   "source": [
    "data_control = pd.read_excel('/kaggle/input/ab-testing/ab_testing.xlsx', sheet_name='Control Group')\n",
    "data_control['type'] = 'control'\n",
    "data_test = pd.read_excel('/kaggle/input/ab-testing/ab_testing.xlsx', sheet_name='Test Group')\n",
    "data_test['type'] = 'test'"
   ]
  },
  {
   "cell_type": "markdown",
   "id": "143946aa",
   "metadata": {
    "papermill": {
     "duration": 0.003062,
     "end_time": "2024-03-05T05:40:24.599934",
     "exception": false,
     "start_time": "2024-03-05T05:40:24.596872",
     "status": "completed"
    },
    "tags": []
   },
   "source": [
    "# Data Processing"
   ]
  },
  {
   "cell_type": "code",
   "execution_count": 3,
   "id": "6f36c26f",
   "metadata": {
    "execution": {
     "iopub.execute_input": "2024-03-05T05:40:24.607833Z",
     "iopub.status.busy": "2024-03-05T05:40:24.607284Z",
     "iopub.status.idle": "2024-03-05T05:40:24.621074Z",
     "shell.execute_reply": "2024-03-05T05:40:24.620337Z"
    },
    "papermill": {
     "duration": 0.019397,
     "end_time": "2024-03-05T05:40:24.622550",
     "exception": false,
     "start_time": "2024-03-05T05:40:24.603153",
     "status": "completed"
    },
    "tags": []
   },
   "outputs": [
    {
     "data": {
      "text/html": [
       "<div>\n",
       "<style scoped>\n",
       "    .dataframe tbody tr th:only-of-type {\n",
       "        vertical-align: middle;\n",
       "    }\n",
       "\n",
       "    .dataframe tbody tr th {\n",
       "        vertical-align: top;\n",
       "    }\n",
       "\n",
       "    .dataframe thead th {\n",
       "        text-align: right;\n",
       "    }\n",
       "</style>\n",
       "<table border=\"1\" class=\"dataframe\">\n",
       "  <thead>\n",
       "    <tr style=\"text-align: right;\">\n",
       "      <th></th>\n",
       "      <th>Impression</th>\n",
       "      <th>Click</th>\n",
       "      <th>Purchase</th>\n",
       "      <th>Earning</th>\n",
       "      <th>type</th>\n",
       "    </tr>\n",
       "  </thead>\n",
       "  <tbody>\n",
       "    <tr>\n",
       "      <th>0</th>\n",
       "      <td>82529.459271</td>\n",
       "      <td>6090.077317</td>\n",
       "      <td>665.211255</td>\n",
       "      <td>2311.277143</td>\n",
       "      <td>control</td>\n",
       "    </tr>\n",
       "    <tr>\n",
       "      <th>1</th>\n",
       "      <td>98050.451926</td>\n",
       "      <td>3382.861786</td>\n",
       "      <td>315.084895</td>\n",
       "      <td>1742.806855</td>\n",
       "      <td>control</td>\n",
       "    </tr>\n",
       "    <tr>\n",
       "      <th>2</th>\n",
       "      <td>82696.023549</td>\n",
       "      <td>4167.965750</td>\n",
       "      <td>458.083738</td>\n",
       "      <td>1797.827447</td>\n",
       "      <td>control</td>\n",
       "    </tr>\n",
       "    <tr>\n",
       "      <th>3</th>\n",
       "      <td>109914.400398</td>\n",
       "      <td>4910.882240</td>\n",
       "      <td>487.090773</td>\n",
       "      <td>1696.229178</td>\n",
       "      <td>control</td>\n",
       "    </tr>\n",
       "    <tr>\n",
       "      <th>4</th>\n",
       "      <td>108457.762630</td>\n",
       "      <td>5987.655811</td>\n",
       "      <td>441.034050</td>\n",
       "      <td>1543.720179</td>\n",
       "      <td>control</td>\n",
       "    </tr>\n",
       "  </tbody>\n",
       "</table>\n",
       "</div>"
      ],
      "text/plain": [
       "      Impression        Click    Purchase      Earning     type\n",
       "0   82529.459271  6090.077317  665.211255  2311.277143  control\n",
       "1   98050.451926  3382.861786  315.084895  1742.806855  control\n",
       "2   82696.023549  4167.965750  458.083738  1797.827447  control\n",
       "3  109914.400398  4910.882240  487.090773  1696.229178  control\n",
       "4  108457.762630  5987.655811  441.034050  1543.720179  control"
      ]
     },
     "execution_count": 3,
     "metadata": {},
     "output_type": "execute_result"
    }
   ],
   "source": [
    "data = pd.concat([data_control, data_test])\n",
    "data.head()"
   ]
  },
  {
   "cell_type": "code",
   "execution_count": 4,
   "id": "c95c051e",
   "metadata": {
    "execution": {
     "iopub.execute_input": "2024-03-05T05:40:24.630181Z",
     "iopub.status.busy": "2024-03-05T05:40:24.629959Z",
     "iopub.status.idle": "2024-03-05T05:40:24.636144Z",
     "shell.execute_reply": "2024-03-05T05:40:24.634928Z"
    },
    "papermill": {
     "duration": 0.011815,
     "end_time": "2024-03-05T05:40:24.637748",
     "exception": false,
     "start_time": "2024-03-05T05:40:24.625933",
     "status": "completed"
    },
    "tags": []
   },
   "outputs": [
    {
     "data": {
      "text/plain": [
       "Impression    0\n",
       "Click         0\n",
       "Purchase      0\n",
       "Earning       0\n",
       "type          0\n",
       "dtype: int64"
      ]
     },
     "execution_count": 4,
     "metadata": {},
     "output_type": "execute_result"
    }
   ],
   "source": [
    "data.isna().sum()"
   ]
  },
  {
   "cell_type": "code",
   "execution_count": 5,
   "id": "cda98ca2",
   "metadata": {
    "execution": {
     "iopub.execute_input": "2024-03-05T05:40:24.645654Z",
     "iopub.status.busy": "2024-03-05T05:40:24.645409Z",
     "iopub.status.idle": "2024-03-05T05:40:24.653110Z",
     "shell.execute_reply": "2024-03-05T05:40:24.652414Z"
    },
    "papermill": {
     "duration": 0.013325,
     "end_time": "2024-03-05T05:40:24.654577",
     "exception": false,
     "start_time": "2024-03-05T05:40:24.641252",
     "status": "completed"
    },
    "tags": []
   },
   "outputs": [
    {
     "data": {
      "text/plain": [
       "False"
      ]
     },
     "execution_count": 5,
     "metadata": {},
     "output_type": "execute_result"
    }
   ],
   "source": [
    "data.duplicated().any()"
   ]
  },
  {
   "cell_type": "code",
   "execution_count": 6,
   "id": "dc5b064d",
   "metadata": {
    "execution": {
     "iopub.execute_input": "2024-03-05T05:40:24.662727Z",
     "iopub.status.busy": "2024-03-05T05:40:24.662346Z",
     "iopub.status.idle": "2024-03-05T05:40:24.677331Z",
     "shell.execute_reply": "2024-03-05T05:40:24.676651Z"
    },
    "papermill": {
     "duration": 0.020702,
     "end_time": "2024-03-05T05:40:24.678837",
     "exception": false,
     "start_time": "2024-03-05T05:40:24.658135",
     "status": "completed"
    },
    "tags": []
   },
   "outputs": [
    {
     "data": {
      "text/html": [
       "<div>\n",
       "<style scoped>\n",
       "    .dataframe tbody tr th:only-of-type {\n",
       "        vertical-align: middle;\n",
       "    }\n",
       "\n",
       "    .dataframe tbody tr th {\n",
       "        vertical-align: top;\n",
       "    }\n",
       "\n",
       "    .dataframe thead tr th {\n",
       "        text-align: left;\n",
       "    }\n",
       "\n",
       "    .dataframe thead tr:last-of-type th {\n",
       "        text-align: right;\n",
       "    }\n",
       "</style>\n",
       "<table border=\"1\" class=\"dataframe\">\n",
       "  <thead>\n",
       "    <tr>\n",
       "      <th></th>\n",
       "      <th colspan=\"2\" halign=\"left\">Purchase</th>\n",
       "    </tr>\n",
       "    <tr>\n",
       "      <th></th>\n",
       "      <th>sum</th>\n",
       "      <th>count</th>\n",
       "    </tr>\n",
       "    <tr>\n",
       "      <th>type</th>\n",
       "      <th></th>\n",
       "      <th></th>\n",
       "    </tr>\n",
       "  </thead>\n",
       "  <tbody>\n",
       "    <tr>\n",
       "      <th>control</th>\n",
       "      <td>22035.762351</td>\n",
       "      <td>40</td>\n",
       "    </tr>\n",
       "    <tr>\n",
       "      <th>test</th>\n",
       "      <td>23284.243866</td>\n",
       "      <td>40</td>\n",
       "    </tr>\n",
       "  </tbody>\n",
       "</table>\n",
       "</div>"
      ],
      "text/plain": [
       "             Purchase      \n",
       "                  sum count\n",
       "type                       \n",
       "control  22035.762351    40\n",
       "test     23284.243866    40"
      ]
     },
     "execution_count": 6,
     "metadata": {},
     "output_type": "execute_result"
    }
   ],
   "source": [
    "data.groupby(by='type').agg({'Purchase': ['sum','count']})"
   ]
  },
  {
   "cell_type": "code",
   "execution_count": 7,
   "id": "13934b74",
   "metadata": {
    "execution": {
     "iopub.execute_input": "2024-03-05T05:40:24.687223Z",
     "iopub.status.busy": "2024-03-05T05:40:24.686996Z",
     "iopub.status.idle": "2024-03-05T05:40:24.703379Z",
     "shell.execute_reply": "2024-03-05T05:40:24.702883Z"
    },
    "papermill": {
     "duration": 0.022247,
     "end_time": "2024-03-05T05:40:24.704788",
     "exception": false,
     "start_time": "2024-03-05T05:40:24.682541",
     "status": "completed"
    },
    "tags": []
   },
   "outputs": [
    {
     "data": {
      "text/html": [
       "<div>\n",
       "<style scoped>\n",
       "    .dataframe tbody tr th:only-of-type {\n",
       "        vertical-align: middle;\n",
       "    }\n",
       "\n",
       "    .dataframe tbody tr th {\n",
       "        vertical-align: top;\n",
       "    }\n",
       "\n",
       "    .dataframe thead th {\n",
       "        text-align: right;\n",
       "    }\n",
       "</style>\n",
       "<table border=\"1\" class=\"dataframe\">\n",
       "  <thead>\n",
       "    <tr style=\"text-align: right;\">\n",
       "      <th></th>\n",
       "      <th>count</th>\n",
       "      <th>mean</th>\n",
       "      <th>std</th>\n",
       "      <th>median</th>\n",
       "      <th>min</th>\n",
       "      <th>max</th>\n",
       "    </tr>\n",
       "    <tr>\n",
       "      <th>type</th>\n",
       "      <th></th>\n",
       "      <th></th>\n",
       "      <th></th>\n",
       "      <th></th>\n",
       "      <th></th>\n",
       "      <th></th>\n",
       "    </tr>\n",
       "  </thead>\n",
       "  <tbody>\n",
       "    <tr>\n",
       "      <th>control</th>\n",
       "      <td>40</td>\n",
       "      <td>550.894059</td>\n",
       "      <td>134.108201</td>\n",
       "      <td>531.206307</td>\n",
       "      <td>267.028943</td>\n",
       "      <td>801.79502</td>\n",
       "    </tr>\n",
       "    <tr>\n",
       "      <th>test</th>\n",
       "      <td>40</td>\n",
       "      <td>582.106097</td>\n",
       "      <td>161.152513</td>\n",
       "      <td>551.355732</td>\n",
       "      <td>311.629515</td>\n",
       "      <td>889.91046</td>\n",
       "    </tr>\n",
       "  </tbody>\n",
       "</table>\n",
       "</div>"
      ],
      "text/plain": [
       "         count        mean         std      median         min        max\n",
       "type                                                                     \n",
       "control     40  550.894059  134.108201  531.206307  267.028943  801.79502\n",
       "test        40  582.106097  161.152513  551.355732  311.629515  889.91046"
      ]
     },
     "execution_count": 7,
     "metadata": {},
     "output_type": "execute_result"
    }
   ],
   "source": [
    "data.groupby(by='type')['Purchase'].agg(['count','mean','std','median', 'min', 'max'])"
   ]
  },
  {
   "cell_type": "code",
   "execution_count": 8,
   "id": "ca773909",
   "metadata": {
    "execution": {
     "iopub.execute_input": "2024-03-05T05:40:24.713453Z",
     "iopub.status.busy": "2024-03-05T05:40:24.713119Z",
     "iopub.status.idle": "2024-03-05T05:40:24.993172Z",
     "shell.execute_reply": "2024-03-05T05:40:24.992408Z"
    },
    "papermill": {
     "duration": 0.286108,
     "end_time": "2024-03-05T05:40:24.994762",
     "exception": false,
     "start_time": "2024-03-05T05:40:24.708654",
     "status": "completed"
    },
    "tags": []
   },
   "outputs": [
    {
     "data": {
      "text/plain": [
       "Text(0.5, 1.0, 'distribution of purchase from average bidding system')"
      ]
     },
     "execution_count": 8,
     "metadata": {},
     "output_type": "execute_result"
    },
    {
     "data": {
      "image/png": "[encoded data removed]",
      "text/plain": [
       "<Figure size 900x900 with 2 Axes>"
      ]
     },
     "metadata": {},
     "output_type": "display_data"
    }
   ],
   "source": [
    "fig, ax = plt.subplots(2,1, figsize=(9,9))\n",
    "sns.boxplot(data_control, x='Purchase', palette='colorblind', ax=ax[0])\n",
    "ax[0].set_title('distribution of purchase from maximum bidding system')\n",
    "sns.boxplot(data_test, x='Purchase', palette='colorblind', ax=ax[1])\n",
    "ax[1].set_title('distribution of purchase from average bidding system')"
   ]
  },
  {
   "cell_type": "markdown",
   "id": "bed43816",
   "metadata": {
    "papermill": {
     "duration": 0.004093,
     "end_time": "2024-03-05T05:40:25.003361",
     "exception": false,
     "start_time": "2024-03-05T05:40:24.999268",
     "status": "completed"
    },
    "tags": []
   },
   "source": [
    "**Key points:**\n",
    "* Our control has lower purchases made via the current bidding system. The max purchase is almost 90 lower than the max purchase made via the new bidding system.\n",
    "* The test results have higher average purchases than the current bidding system. There is also more variation seen in the standard deviation.\n",
    "* We will need to conduct a a/b test to see if these higher results in the test is statistically significant."
   ]
  },
  {
   "cell_type": "markdown",
   "id": "326aeb2d",
   "metadata": {
    "papermill": {
     "duration": 0.00413,
     "end_time": "2024-03-05T05:40:25.011694",
     "exception": false,
     "start_time": "2024-03-05T05:40:25.007564",
     "status": "completed"
    },
    "tags": []
   },
   "source": [
    "**Steps:**\n",
    "* Use shapiro to test for normality. If the p_value > 0.05 for both control and test, then the distributions are normal.\n",
    "* If it is not a normal distribution, use the whitneyu method to review for normality assumption\n",
    "* Use levene to test for homogenity of variances. If the p_value > 0.05 for both control and test, then this passes homogenity test.\n",
    "* Use ttest_ind for t testing. If the p_value is < 0.05, then the purchases are statistically significant and therefore, we are able to reject the null hypothesis.\n",
    "* Create a new data_frame with the results."
   ]
  },
  {
   "cell_type": "code",
   "execution_count": 9,
   "id": "62649a1e",
   "metadata": {
    "execution": {
     "iopub.execute_input": "2024-03-05T05:40:25.021340Z",
     "iopub.status.busy": "2024-03-05T05:40:25.021113Z",
     "iopub.status.idle": "2024-03-05T05:40:25.046827Z",
     "shell.execute_reply": "2024-03-05T05:40:25.046197Z"
    },
    "papermill": {
     "duration": 0.032465,
     "end_time": "2024-03-05T05:40:25.048390",
     "exception": false,
     "start_time": "2024-03-05T05:40:25.015925",
     "status": "completed"
    },
    "tags": []
   },
   "outputs": [
    {
     "name": "stdout",
     "output_type": "stream",
     "text": [
      "a/b hypothesis test: \n",
      " H0: there is no difference between the control and test \n",
      " H1: there is a difference between the control and test\n"
     ]
    },
    {
     "data": {
      "text/html": [
       "<div>\n",
       "<style scoped>\n",
       "    .dataframe tbody tr th:only-of-type {\n",
       "        vertical-align: middle;\n",
       "    }\n",
       "\n",
       "    .dataframe tbody tr th {\n",
       "        vertical-align: top;\n",
       "    }\n",
       "\n",
       "    .dataframe thead th {\n",
       "        text-align: right;\n",
       "    }\n",
       "</style>\n",
       "<table border=\"1\" class=\"dataframe\">\n",
       "  <thead>\n",
       "    <tr style=\"text-align: right;\">\n",
       "      <th></th>\n",
       "      <th>test_type</th>\n",
       "      <th>homogeneity</th>\n",
       "      <th>ab_hypothesis</th>\n",
       "      <th>p_value</th>\n",
       "      <th>note</th>\n",
       "    </tr>\n",
       "  </thead>\n",
       "  <tbody>\n",
       "    <tr>\n",
       "      <th>0</th>\n",
       "      <td>parametric</td>\n",
       "      <td>Yes</td>\n",
       "      <td>fail to reject H0</td>\n",
       "      <td>0.349326</td>\n",
       "      <td>a/b groups are similar</td>\n",
       "    </tr>\n",
       "  </tbody>\n",
       "</table>\n",
       "</div>"
      ],
      "text/plain": [
       "    test_type homogeneity      ab_hypothesis   p_value                    note\n",
       "0  parametric         Yes  fail to reject H0  0.349326  a/b groups are similar"
      ]
     },
     "execution_count": 9,
     "metadata": {},
     "output_type": "execute_result"
    }
   ],
   "source": [
    "def ab_test(df, group, target, a, b):\n",
    "    from scipy.stats import shapiro, mannwhitneyu, levene, ttest_ind\n",
    "    \n",
    "    groupa = df[df[group]==a][target]\n",
    "    groupb = df[df[group]==b][target]\n",
    "    \n",
    "    #normality assumption\n",
    "    normality_a = shapiro(groupa)[1] < .05\n",
    "    normality_b = shapiro(groupb)[1] < .05\n",
    "    # H0: distribution is normal -> [bool]==False\n",
    "    # H1: distribution is not normal -> [bool]==True\n",
    "    \n",
    "    if (normality_a == False) & (normality_b == False):\n",
    "        #parametric test assuming normality with shapiro \n",
    "        #homogeneity of variances assumption\n",
    "        levene_test = levene(groupa, groupb)[1] < .05\n",
    "        # H0: homogenity -> [bool]==False\n",
    "        # H1: heterogenous -> [bool]==True\n",
    "        \n",
    "        if levene_test == False:\n",
    "            ttest = ttest_ind(groupa, groupb, equal_var=True)[1]\n",
    "            # H0: A = B -> [bool]==False\n",
    "            # H1: A != B -> [bool]==True\n",
    "        else:\n",
    "            ttest = ttest_index(groupa, groupb, equal_var=False)[1]\n",
    "            # H0: A = B -> [bool]==False\n",
    "            # H1: A != B -> [bool]==True\n",
    "    else: \n",
    "        #nonparametric test for normality\n",
    "        ttest = mannwhitneyu(groupa, groupb)[1]\n",
    "        # H0: A = B -> [bool]==False\n",
    "        # H1: A != B -> [bool]==True\n",
    "        \n",
    "    #results\n",
    "    table = pd.DataFrame({\n",
    "                        'ab_hypothesis':[ttest<.05],\n",
    "                        'p_value':[ttest]\n",
    "                        })\n",
    "    table['test_type'] = np.where((normality_a==False) & (normality_b==False), 'parametric', 'non-parametric')\n",
    "    table['ab_hypothesis'] = np.where(table['ab_hypothesis']==False, 'fail to reject H0', 'reject H0')\n",
    "    table['note'] = np.where(table['ab_hypothesis']=='fail to reject H0', 'a/b groups are similar', 'a/b groups are not similar')\n",
    "    \n",
    "    if (normality_a == False) & (normality_b == False):\n",
    "        table['homogeneity'] = np.where(levene_test == False, 'Yes', 'No')\n",
    "        table = table[['test_type','homogeneity', 'ab_hypothesis','p_value','note']]\n",
    "    else:\n",
    "        table = table[['test_type', 'ab_hypothesis','p_value','note']]\n",
    "\n",
    "    print('a/b hypothesis test:', '\\n', 'H0: there is no difference between the control and test', '\\n', 'H1: there is a difference between the control and test')\n",
    "    \n",
    "    return table\n",
    "\n",
    "ab_test(df=data, group='type', target='Purchase', a='control', b='test')"
   ]
  },
  {
   "cell_type": "code",
   "execution_count": 10,
   "id": "bdc8ee8b",
   "metadata": {
    "execution": {
     "iopub.execute_input": "2024-03-05T05:40:25.059786Z",
     "iopub.status.busy": "2024-03-05T05:40:25.059455Z",
     "iopub.status.idle": "2024-03-05T05:40:25.071125Z",
     "shell.execute_reply": "2024-03-05T05:40:25.070227Z"
    },
    "papermill": {
     "duration": 0.020014,
     "end_time": "2024-03-05T05:40:25.072933",
     "exception": false,
     "start_time": "2024-03-05T05:40:25.052919",
     "status": "completed"
    },
    "tags": []
   },
   "outputs": [
    {
     "data": {
      "text/html": [
       "<div>\n",
       "<style scoped>\n",
       "    .dataframe tbody tr th:only-of-type {\n",
       "        vertical-align: middle;\n",
       "    }\n",
       "\n",
       "    .dataframe tbody tr th {\n",
       "        vertical-align: top;\n",
       "    }\n",
       "\n",
       "    .dataframe thead tr th {\n",
       "        text-align: left;\n",
       "    }\n",
       "\n",
       "    .dataframe thead tr:last-of-type th {\n",
       "        text-align: right;\n",
       "    }\n",
       "</style>\n",
       "<table border=\"1\" class=\"dataframe\">\n",
       "  <thead>\n",
       "    <tr>\n",
       "      <th></th>\n",
       "      <th colspan=\"2\" halign=\"left\">Purchase</th>\n",
       "    </tr>\n",
       "    <tr>\n",
       "      <th></th>\n",
       "      <th>sum</th>\n",
       "      <th>count</th>\n",
       "    </tr>\n",
       "    <tr>\n",
       "      <th>type</th>\n",
       "      <th></th>\n",
       "      <th></th>\n",
       "    </tr>\n",
       "  </thead>\n",
       "  <tbody>\n",
       "    <tr>\n",
       "      <th>control</th>\n",
       "      <td>22035.762351</td>\n",
       "      <td>40</td>\n",
       "    </tr>\n",
       "    <tr>\n",
       "      <th>test</th>\n",
       "      <td>23284.243866</td>\n",
       "      <td>40</td>\n",
       "    </tr>\n",
       "  </tbody>\n",
       "</table>\n",
       "</div>"
      ],
      "text/plain": [
       "             Purchase      \n",
       "                  sum count\n",
       "type                       \n",
       "control  22035.762351    40\n",
       "test     23284.243866    40"
      ]
     },
     "execution_count": 10,
     "metadata": {},
     "output_type": "execute_result"
    }
   ],
   "source": [
    "data.groupby(by='type').agg({'Purchase': ['sum','count']})"
   ]
  },
  {
   "cell_type": "markdown",
   "id": "74b02948",
   "metadata": {
    "papermill": {
     "duration": 0.004438,
     "end_time": "2024-03-05T05:40:25.082323",
     "exception": false,
     "start_time": "2024-03-05T05:40:25.077885",
     "status": "completed"
    },
    "tags": []
   },
   "source": [
    "# Results:\n",
    "* Our control and test groups pass the normality and homogenity test. We can tell in the results because it returned as test_type = parametric & homogenity = Yes.\n",
    "* The p-value is .349 and therefore we are unable to reject the null hypothesis. The difference in purchases seen between the control and test groups are not statistically significant.  \n",
    "\n",
    "**Recommendation**\n",
    "* Continue to use the current bidding system: maximum bidding. The mean purchase is close to the new bidding system while still maintaining a smaller standard deviation. In addition, we cannot conclude that the new bidding system results were statistically significant, so we might not see the increase in purchase if deployed to all users. "
   ]
  }
 ],
 "metadata": {
  "kaggle": {
   "accelerator": "none",
   "dataSources": [
    {
     "datasetId": 1623556,
     "sourceId": 2668513,
     "sourceType": "datasetVersion"
    }
   ],
   "dockerImageVersionId": 30664,
   "isGpuEnabled": false,
   "isInternetEnabled": false,
   "language": "python",
   "sourceType": "notebook"
  },
  "kernelspec": {
   "display_name": "Python 3",
   "language": "python",
   "name": "python3"
  },
  "language_info": {
   "codemirror_mode": {
    "name": "ipython",
    "version": 3
   },
   "file_extension": ".py",
   "mimetype": "text/x-python",
   "name": "python",
   "nbconvert_exporter": "python",
   "pygments_lexer": "ipython3",
   "version": "3.10.13"
  },
  "papermill": {
   "default_parameters": {},
   "duration": 4.975405,
   "end_time": "2024-03-05T05:40:25.504249",
   "environment_variables": {},
   "exception": null,
   "input_path": "__notebook__.ipynb",
   "output_path": "__notebook__.ipynb",
   "parameters": {},
   "start_time": "2024-03-05T05:40:20.528844",
   "version": "2.5.0"
  }
 },
 "nbformat": 4,
 "nbformat_minor": 5
}
